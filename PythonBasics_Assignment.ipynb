{
  "nbformat": 4,
  "nbformat_minor": 0,
  "metadata": {
    "colab": {
      "provenance": []
    },
    "kernelspec": {
      "name": "python3",
      "display_name": "Python 3"
    },
    "language_info": {
      "name": "python"
    }
  },
  "cells": [
    {
      "cell_type": "markdown",
      "source": [
        "#**Python Basics Assignment**"
      ],
      "metadata": {
        "id": "aD8nJBmNzLGh"
      }
    },
    {
      "cell_type": "markdown",
      "source": [
        "##*Python Basics Theoretical Questions*"
      ],
      "metadata": {
        "id": "KbkL87BSzWx2"
      }
    },
    {
      "cell_type": "markdown",
      "source": [
        "1. What is Python, and why is it popular?\n",
        "\n",
        "- Python is a high-level, interpreted programming language.It is popular because it is easy to read, simple to learn, has many libraries, and works for data, AI, web, and automation."
      ],
      "metadata": {
        "id": "VK6VheFvzqqU"
      }
    },
    {
      "cell_type": "markdown",
      "source": [
        "2. What is an interpreter in Python?\n",
        "- The interpreter executes Python code line by line, converting it into machine understandable instructions."
      ],
      "metadata": {
        "id": "WoVEE-PE0Y-q"
      }
    },
    {
      "cell_type": "markdown",
      "source": [
        "3. What are pre-defined keywords in Python?\n",
        "- Keywords are reserved words with special meaning, like if, for, while, True, False."
      ],
      "metadata": {
        "id": "n0XBiy9t0Y7E"
      }
    },
    {
      "cell_type": "markdown",
      "source": [
        "4. Can keywords be used as variable names?\n",
        "- No, keywords cannot be used as variable names."
      ],
      "metadata": {
        "id": "OwQUldYc0Y4u"
      }
    },
    {
      "cell_type": "markdown",
      "source": [
        "5. What is mutability in Python?\n",
        "- Mutability means whether an object can be changed after creation.\n",
        "- Mutable: Can change (list, dict).\n",
        "- Immutable: Cannot change (tuple, string)."
      ],
      "metadata": {
        "id": "DBu-7sk90Yu_"
      }
    },
    {
      "cell_type": "markdown",
      "source": [
        "6. Why are lists mutable, but tuples are immutable?\n",
        "\n",
        "- List: Designed for flexibility → can add/remove items.\n",
        "- Tuple: Designed for safety → data cannot be changed once stored."
      ],
      "metadata": {
        "id": "6sPp-qs20Yrk"
      }
    },
    {
      "cell_type": "markdown",
      "source": [
        "7. Difference between \"==\" and \"is\" operators in Python?\n",
        "\n",
        "- == → checks values are equal.\n",
        "- is → checks memory location is same."
      ],
      "metadata": {
        "id": "N1rIgTE60Yop"
      }
    },
    {
      "cell_type": "code",
      "source": [
        "a = [1,2]\n",
        "b = [1,2]\n",
        "print(a == b)  # True (values same)\n",
        "print(a is b)  # False (different objects)"
      ],
      "metadata": {
        "colab": {
          "base_uri": "https://localhost:8080/"
        },
        "id": "M0uny-Ye1uGX",
        "outputId": "31182080-c57f-4325-e6ab-bce69d1fa54f"
      },
      "execution_count": 1,
      "outputs": [
        {
          "output_type": "stream",
          "name": "stdout",
          "text": [
            "True\n",
            "False\n"
          ]
        }
      ]
    },
    {
      "cell_type": "markdown",
      "source": [
        "8. What are logical operators in Python?\n",
        "\n",
        "- and → True if both conditions are True\n",
        "- or → True if at least one condition is True\n",
        "- not → reverses condition"
      ],
      "metadata": {
        "id": "GSkaNWx-1s15"
      }
    },
    {
      "cell_type": "markdown",
      "source": [
        "9. What is type casting in Python?\n",
        "- Changing one data type into another."
      ],
      "metadata": {
        "id": "isxH23py0Ykp"
      }
    },
    {
      "cell_type": "code",
      "source": [
        "x = \"10\"\n",
        "y = int(x)   # type casting"
      ],
      "metadata": {
        "id": "ST_7cL1j2MiJ"
      },
      "execution_count": 2,
      "outputs": []
    },
    {
      "cell_type": "markdown",
      "source": [
        "10. Difference between implicit and explicit type casting?\n",
        "\n",
        "- Implicit: Python does automatically.\n",
        "- Explicit: Programmer converts manually."
      ],
      "metadata": {
        "id": "lNUT4XCO0Yat"
      }
    },
    {
      "cell_type": "markdown",
      "source": [
        "11. What is the purpose of conditional statements in Python?\n",
        "- They are used to make decisions and run code only when conditions are met."
      ],
      "metadata": {
        "id": "9iiEnJXO0YIR"
      }
    },
    {
      "cell_type": "markdown",
      "source": [
        "12. How does the elif statement work?\n",
        "- elif checks another condition if the first if is False."
      ],
      "metadata": {
        "id": "B-K2hnI-0X31"
      }
    },
    {
      "cell_type": "code",
      "source": [
        "x = 15\n",
        "if x < 10:\n",
        "    print(\"Small\")\n",
        "elif x < 20:\n",
        "    print(\"Medium\")   # runs this\n",
        "else:\n",
        "    print(\"Large\")"
      ],
      "metadata": {
        "colab": {
          "base_uri": "https://localhost:8080/"
        },
        "id": "lLOVNn832tQn",
        "outputId": "cbe86d1c-5a83-4112-c61a-ff94606f37cd"
      },
      "execution_count": 3,
      "outputs": [
        {
          "output_type": "stream",
          "name": "stdout",
          "text": [
            "Medium\n"
          ]
        }
      ]
    },
    {
      "cell_type": "markdown",
      "source": [
        "13. Difference between for and while loops?\n",
        "\n",
        "- for loop → used when we know the number of iterations.\n",
        "- while loop → used when we don’t know iterations, runs until condition is False."
      ],
      "metadata": {
        "id": "jVixIiVd0Xas"
      }
    },
    {
      "cell_type": "markdown",
      "source": [
        "14. Describe a scenario where while loop is more suitable than for loop?\n",
        "- Example: Keep asking user input until they type \"exit\"."
      ],
      "metadata": {
        "id": "SV2MCfuz24Mx"
      }
    },
    {
      "cell_type": "code",
      "execution_count": 5,
      "metadata": {
        "colab": {
          "base_uri": "https://localhost:8080/"
        },
        "id": "nrJ9VCCpy6vW",
        "outputId": "c05e7ee8-c26f-4763-b60d-abc4c5d588bf"
      },
      "outputs": [
        {
          "name": "stdout",
          "output_type": "stream",
          "text": [
            "Enter something: Hi, My name is Shiva\n",
            "Enter something: exit\n"
          ]
        }
      ],
      "source": [
        "text = \"\"\n",
        "while text != \"exit\":\n",
        "    text = input(\"Enter something: \")"
      ]
    },
    {
      "cell_type": "markdown",
      "source": [
        "#*Practical Questions*"
      ],
      "metadata": {
        "id": "lXDvhn3O3XFI"
      }
    },
    {
      "cell_type": "markdown",
      "source": [
        "1. Write a Python program to print \"Hello, World!\"."
      ],
      "metadata": {
        "id": "B0leUY575STH"
      }
    },
    {
      "cell_type": "code",
      "source": [
        "print(\"Hello, World!\")"
      ],
      "metadata": {
        "colab": {
          "base_uri": "https://localhost:8080/"
        },
        "id": "EOH45PFw7fs7",
        "outputId": "5c3b08b7-1f74-4f81-e789-688243313244"
      },
      "execution_count": 7,
      "outputs": [
        {
          "output_type": "stream",
          "name": "stdout",
          "text": [
            "Hello, World!\n"
          ]
        }
      ]
    },
    {
      "cell_type": "markdown",
      "source": [
        "2. Write a Python program that displays your name and age."
      ],
      "metadata": {
        "id": "B2I6cV605SQo"
      }
    },
    {
      "cell_type": "code",
      "source": [
        "name = \"Shiva\"\n",
        "age = 22\n",
        "print(\"Name:\", name)\n",
        "print(\"Age:\", age)"
      ],
      "metadata": {
        "colab": {
          "base_uri": "https://localhost:8080/"
        },
        "id": "6gTxHPF57glM",
        "outputId": "70e98e16-3a0b-45e2-b022-39b0b3c83fbf"
      },
      "execution_count": 8,
      "outputs": [
        {
          "output_type": "stream",
          "name": "stdout",
          "text": [
            "Name: Shiva\n",
            "Age: 22\n"
          ]
        }
      ]
    },
    {
      "cell_type": "markdown",
      "source": [
        "3. Write code to print all the pre-defined keywords in Python using the keyword library.\n"
      ],
      "metadata": {
        "id": "5AkiiKVP5SNs"
      }
    },
    {
      "cell_type": "code",
      "source": [
        "import keyword\n",
        "print(keyword.kwlist) # pre defined keywords"
      ],
      "metadata": {
        "colab": {
          "base_uri": "https://localhost:8080/"
        },
        "id": "fqo4lpmk7hlD",
        "outputId": "fceec911-cbc3-403c-c712-014cebbb41f0"
      },
      "execution_count": 9,
      "outputs": [
        {
          "output_type": "stream",
          "name": "stdout",
          "text": [
            "['False', 'None', 'True', 'and', 'as', 'assert', 'async', 'await', 'break', 'class', 'continue', 'def', 'del', 'elif', 'else', 'except', 'finally', 'for', 'from', 'global', 'if', 'import', 'in', 'is', 'lambda', 'nonlocal', 'not', 'or', 'pass', 'raise', 'return', 'try', 'while', 'with', 'yield']\n"
          ]
        }
      ]
    },
    {
      "cell_type": "markdown",
      "source": [
        "4. Write a program that checks if a given word is a Python keyword.\n"
      ],
      "metadata": {
        "id": "0BTLeIZq5SLI"
      }
    },
    {
      "cell_type": "code",
      "source": [
        "word = input(\"Enter a word: \")\n",
        "if keyword.iskeyword(word):\n",
        "    print(word, \"is a Python keyword\")\n",
        "else:\n",
        "    print(word, \"is not a Python keyword\")"
      ],
      "metadata": {
        "colab": {
          "base_uri": "https://localhost:8080/"
        },
        "id": "dilkoRfm7iYR",
        "outputId": "c9960fd4-361c-4ebb-9c6a-0ab3996d017a"
      },
      "execution_count": 13,
      "outputs": [
        {
          "output_type": "stream",
          "name": "stdout",
          "text": [
            "Enter a word: as\n",
            "as is a Python keyword\n"
          ]
        }
      ]
    },
    {
      "cell_type": "markdown",
      "source": [
        "5. Create a list and tuple in Python, and demonstrate how attempting to change an element works differently for each.\n"
      ],
      "metadata": {
        "id": "R4nrNaD35SIw"
      }
    },
    {
      "cell_type": "code",
      "source": [
        "L_list = [1, 2, 3]\n",
        "L_list[0] = 10\n",
        "print(\"List after change:\", L_list)\n",
        "T_tuple = (1, 2, 3)  # Tuple (immutable)\n",
        "print(\"Tuple cannot be changed:\", T_tuple)   # my_tuple[0] = 10   Error"
      ],
      "metadata": {
        "colab": {
          "base_uri": "https://localhost:8080/"
        },
        "id": "qrTweJM97i5M",
        "outputId": "569726d6-ef04-43ab-e481-d13555bed5aa"
      },
      "execution_count": 16,
      "outputs": [
        {
          "output_type": "stream",
          "name": "stdout",
          "text": [
            "List after change: [10, 2, 3]\n",
            "Tuple cannot be changed: (1, 2, 3)\n"
          ]
        }
      ]
    },
    {
      "cell_type": "markdown",
      "source": [
        "6. Write a function to demonstrate the behavior of mutable and immutable arguments.\n"
      ],
      "metadata": {
        "id": "xoP0fC6D5SGC"
      }
    },
    {
      "cell_type": "code",
      "source": [
        "def change_list(lst):\n",
        "    lst[0] = 100   # List is mutable\n",
        "def change_number(num):\n",
        "    num = num + 10  # Integer is immutable\n",
        "nums = [1, 2, 3]\n",
        "n = 5\n",
        "change_list(nums)\n",
        "change_number(n)\n",
        "\n",
        "print(\"List after function:\", nums)  # Changed\n",
        "print(\"Number after function:\", n)  # Not changed"
      ],
      "metadata": {
        "colab": {
          "base_uri": "https://localhost:8080/"
        },
        "id": "dcYUgwpl7jdo",
        "outputId": "9272bfa0-7583-44df-b991-7d3277cd0ef0"
      },
      "execution_count": 17,
      "outputs": [
        {
          "output_type": "stream",
          "name": "stdout",
          "text": [
            "List after function: [100, 2, 3]\n",
            "Number after function: 5\n"
          ]
        }
      ]
    },
    {
      "cell_type": "markdown",
      "source": [
        "7. Write a program that performs basic arithmetic operations on two user-input numbers.\n"
      ],
      "metadata": {
        "id": "voh84PfQ5SDP"
      }
    },
    {
      "cell_type": "code",
      "source": [
        "a = int(input(\"Enter first number: \"))\n",
        "b = int(input(\"Enter second number: \"))\n",
        "print(\"Addition:\", a + b)\n",
        "print(\"Subtraction:\", a - b)\n",
        "print(\"Multiplication:\", a * b)\n",
        "print(\"Division:\", a / b)"
      ],
      "metadata": {
        "colab": {
          "base_uri": "https://localhost:8080/"
        },
        "id": "R3CrTGzE7j7F",
        "outputId": "a2891d2f-2d4f-47c3-e3a4-ae0743521807"
      },
      "execution_count": 18,
      "outputs": [
        {
          "output_type": "stream",
          "name": "stdout",
          "text": [
            "Enter first number: 10\n",
            "Enter second number: 5\n",
            "Addition: 15\n",
            "Subtraction: 5\n",
            "Multiplication: 50\n",
            "Division: 2.0\n"
          ]
        }
      ]
    },
    {
      "cell_type": "markdown",
      "source": [
        "8. Write a program to demonstrate the use of logical operators.\n"
      ],
      "metadata": {
        "id": "XY26Ijz75SAi"
      }
    },
    {
      "cell_type": "code",
      "source": [
        "x = 10\n",
        "y = 20\n",
        "print(x > 5 and y > 15)  # True\n",
        "print(x > 15 or y > 15)  # True\n",
        "print(not(x > 5))        # False"
      ],
      "metadata": {
        "colab": {
          "base_uri": "https://localhost:8080/"
        },
        "id": "ZlOh4Az77kpZ",
        "outputId": "cb172906-cd0d-426f-9d49-520f744f7b87"
      },
      "execution_count": 19,
      "outputs": [
        {
          "output_type": "stream",
          "name": "stdout",
          "text": [
            "True\n",
            "True\n",
            "False\n"
          ]
        }
      ]
    },
    {
      "cell_type": "markdown",
      "source": [
        "9. Write a Python program to convert user input from string to integer, float, and boolean types."
      ],
      "metadata": {
        "id": "7VrT18yE5R98"
      }
    },
    {
      "cell_type": "code",
      "source": [
        "data = input(\"Enter the input: \")\n",
        "print(\"As Integer:\", int(data))\n",
        "print(\"As Float:\", float(data))\n",
        "print(\"As Boolean:\", bool(data))"
      ],
      "metadata": {
        "colab": {
          "base_uri": "https://localhost:8080/"
        },
        "id": "6xldsnxs7lkt",
        "outputId": "29a532a9-389d-490f-8152-10dff2434e62"
      },
      "execution_count": 21,
      "outputs": [
        {
          "output_type": "stream",
          "name": "stdout",
          "text": [
            "Enter the input: 5\n",
            "As Integer: 5\n",
            "As Float: 5.0\n",
            "As Boolean: True\n"
          ]
        }
      ]
    },
    {
      "cell_type": "markdown",
      "source": [
        "10. Write code to demonstrate type casting with list elements.\n"
      ],
      "metadata": {
        "id": "lzpOZ_G15R7X"
      }
    },
    {
      "cell_type": "code",
      "source": [
        "str_list = [\"90\", \"80\", \"100\"]\n",
        "int_list = [int(x) for x in str_list]\n",
        "print(\"Before:\", str_list)\n",
        "print(\"After:\", int_list)"
      ],
      "metadata": {
        "colab": {
          "base_uri": "https://localhost:8080/"
        },
        "id": "UIOY8Rcp7mbg",
        "outputId": "146a1fb6-c402-4cfb-efc4-bc682f7b0774"
      },
      "execution_count": 23,
      "outputs": [
        {
          "output_type": "stream",
          "name": "stdout",
          "text": [
            "Before: ['90', '80', '100']\n",
            "After: [90, 80, 100]\n"
          ]
        }
      ]
    },
    {
      "cell_type": "markdown",
      "source": [
        "11. Write a program that checks if a number is positive, negative, or zero.\n"
      ],
      "metadata": {
        "id": "ykAP3wTK5R4x"
      }
    },
    {
      "cell_type": "code",
      "source": [
        "num = int(input(\"Enter a number: \"))\n",
        "if num > 0:\n",
        "    print(\"Positive\")\n",
        "elif num < 0:\n",
        "    print(\"Negative\")\n",
        "else:\n",
        "    print(\"Zero\")"
      ],
      "metadata": {
        "colab": {
          "base_uri": "https://localhost:8080/"
        },
        "id": "CRfnObai7m5i",
        "outputId": "22e48e9b-2ad1-4c51-a799-7afb2b66d159"
      },
      "execution_count": 27,
      "outputs": [
        {
          "output_type": "stream",
          "name": "stdout",
          "text": [
            "Enter a number: 100\n",
            "Positive\n"
          ]
        }
      ]
    },
    {
      "cell_type": "markdown",
      "source": [
        "12. Write a for loop to print numbers from 1 to 10.\n"
      ],
      "metadata": {
        "id": "bgPDhzU-5R12"
      }
    },
    {
      "cell_type": "code",
      "source": [
        "for i in range(1, 11):\n",
        "    print(i)"
      ],
      "metadata": {
        "colab": {
          "base_uri": "https://localhost:8080/"
        },
        "id": "NqjmGHhM7neK",
        "outputId": "bf167d96-9501-4b00-ebf0-57ce15b9cd1c"
      },
      "execution_count": 28,
      "outputs": [
        {
          "output_type": "stream",
          "name": "stdout",
          "text": [
            "1\n",
            "2\n",
            "3\n",
            "4\n",
            "5\n",
            "6\n",
            "7\n",
            "8\n",
            "9\n",
            "10\n"
          ]
        }
      ]
    },
    {
      "cell_type": "markdown",
      "source": [
        "13. Write a Python program to find the sum of all even numbers between 1 and 50.\n"
      ],
      "metadata": {
        "id": "K2Igda8b5RwB"
      }
    },
    {
      "cell_type": "code",
      "source": [
        "total = 0\n",
        "for i in range(1, 51):\n",
        "    if i % 2 == 0:\n",
        "        total += i\n",
        "print(\"Sum of even numbers 1-50:\", total)"
      ],
      "metadata": {
        "colab": {
          "base_uri": "https://localhost:8080/"
        },
        "id": "mH0aYBpb7pTG",
        "outputId": "0931738e-6808-43f3-dce6-5559aa28de85"
      },
      "execution_count": 30,
      "outputs": [
        {
          "output_type": "stream",
          "name": "stdout",
          "text": [
            "Sum of even numbers 1-50: 650\n"
          ]
        }
      ]
    },
    {
      "cell_type": "markdown",
      "source": [
        "14. Write a program to reverse a string using a while loop.\n"
      ],
      "metadata": {
        "id": "xabuPKiR5RjK"
      }
    },
    {
      "cell_type": "code",
      "source": [
        "text = input(\"Enter a string: \")\n",
        "rev = \"\"\n",
        "i = len(text) - 1\n",
        "while i >= 0:\n",
        "    rev += text[i]\n",
        "    i -= 1\n",
        "print(\"Reversed: \", rev)"
      ],
      "metadata": {
        "colab": {
          "base_uri": "https://localhost:8080/"
        },
        "id": "LTurpIDE7p0G",
        "outputId": "8d612b35-29b9-42a5-f397-0265600e3b7d"
      },
      "execution_count": 35,
      "outputs": [
        {
          "output_type": "stream",
          "name": "stdout",
          "text": [
            "Enter a string: Hi guys!\n",
            "Reversed:  !syug iH\n"
          ]
        }
      ]
    },
    {
      "cell_type": "markdown",
      "source": [
        "15. Write a Python program to calculate the factorial of a number provided by the user using a while loop.\n"
      ],
      "metadata": {
        "id": "m1ppGEZn7FfZ"
      }
    },
    {
      "cell_type": "code",
      "source": [
        "num = int(input(\"Enter a number: \"))\n",
        "fact = 1\n",
        "i = 1\n",
        "while i <= num:\n",
        "    fact *= i\n",
        "    i += 1\n",
        "print(\"Factorial:\", fact)"
      ],
      "metadata": {
        "colab": {
          "base_uri": "https://localhost:8080/"
        },
        "id": "S2pGGroj3Asi",
        "outputId": "0f95da8a-644f-4b41-a25f-2e6e5fa2050b"
      },
      "execution_count": 37,
      "outputs": [
        {
          "output_type": "stream",
          "name": "stdout",
          "text": [
            "Enter a number: 10\n",
            "Factorial: 3628800\n"
          ]
        }
      ]
    },
    {
      "cell_type": "code",
      "source": [],
      "metadata": {
        "id": "I-sUD6Ms_Nad"
      },
      "execution_count": null,
      "outputs": []
    }
  ]
}